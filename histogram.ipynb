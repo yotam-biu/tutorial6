{
  "cells": [
    {
      "cell_type": "markdown",
      "metadata": {
        "id": "view-in-github",
        "colab_type": "text"
      },
      "source": [
        "<a href=\"https://colab.research.google.com/github/yotam-biu/tutorial6/blob/main/histogram.ipynb\" target=\"_parent\"><img src=\"https://colab.research.google.com/assets/colab-badge.svg\" alt=\"Open In Colab\"/></a>"
      ]
    },
    {
      "cell_type": "markdown",
      "source": [
        "# Load the files"
      ],
      "metadata": {
        "id": "J0IqcTM5MuX8"
      },
      "id": "J0IqcTM5MuX8"
    },
    {
      "cell_type": "code",
      "execution_count": null,
      "id": "b511f488",
      "metadata": {
        "id": "b511f488"
      },
      "outputs": [],
      "source": [
        "\n",
        "%load_ext autoreload\n",
        "%autoreload 2\n",
        "\n",
        "!wget https://raw.githubusercontent.com/yotam-biu/tutorial6/main/histogram_utils.py -O /content/histogram_utils.py\n",
        "!mkdir data # Create a folder for the data in the colab\n",
        "!wget https://raw.githubusercontent.com/yotam-biu/tutorial6/main/data/dna.txt -O /content/data/dna.txt\n",
        "!wget https://raw.githubusercontent.com/yotam-biu/tutorial6/main/data/mutate_dna.txt -O /content/data/mutate_dna.txt\n"
      ]
    },
    {
      "cell_type": "code",
      "source": [
        "from histogram_utils import build_histogram, plot_histogram\n",
        "\n",
        "data = [1,2,2,3,3,3,4]\n",
        "histogram = build_histogram(data)\n",
        "plot_histogram(histogram)"
      ],
      "metadata": {
        "id": "IMP1zw7qELGt"
      },
      "id": "IMP1zw7qELGt",
      "execution_count": null,
      "outputs": []
    },
    {
      "cell_type": "markdown",
      "source": [
        "# Read `.txt` file"
      ],
      "metadata": {
        "id": "lChzp6kaKWYO"
      },
      "id": "lChzp6kaKWYO"
    },
    {
      "cell_type": "markdown",
      "source": [
        "**Step 1: Read the data in the file**\n",
        "\n",
        "1. Define a string variable path that holds the file path (a string) where your text file is located. You can use either the `dna.txt` file or the `mutate_dna.txt` file in the `data` folder.\n",
        "\n",
        "2. Open the file using `file = open(path)`. This will create a file object called file, which has methods like `.read()`, `.close()`, and `.readlines()`.\n",
        "\n",
        "3. Use the `.readlines()` method of the file object to read all lines from the file and store them in a variable named rows.\n",
        "\n",
        "4. Don't forget to close the file. Use the `.close()` method of the file object to close it after you're done."
      ],
      "metadata": {
        "id": "p0CJvwbQFOU9"
      },
      "id": "p0CJvwbQFOU9"
    },
    {
      "cell_type": "code",
      "source": [],
      "metadata": {
        "id": "3grszTmSFi-u"
      },
      "id": "3grszTmSFi-u",
      "execution_count": null,
      "outputs": []
    },
    {
      "cell_type": "markdown",
      "source": [
        "**Step 2: Process the Data**\n",
        "Now that you have read the lines from the file, the next step is to process each line. Here's how you can do it:\n",
        "\n",
        "1. Create an empty string: Start by defining an empty string called long_string. This will hold the final result after processing each line.\n",
        "\n",
        "2. Loop through the lines: Use a loop to go through each line in the lines list.\n",
        "\n",
        "3. Understand what `.strip()` does: Before proceeding, print the first line of the file both with and without using the strip() method. This will help you understand the difference between the two.\n",
        "\n",
        "4. Update the string: For each line, use `.strip()` to remove any leading or trailing spaces or newline characters, and then add it to the long_string variable.\n",
        "\n",
        "Once you've completed this step, you will have one continuous string with all the lines from the file, neatly processed without unwanted spaces at the edges."
      ],
      "metadata": {
        "id": "9bRHYdDnGFrq"
      },
      "id": "9bRHYdDnGFrq"
    },
    {
      "cell_type": "code",
      "source": [
        "for line in lines:\n",
        "    break\n",
        "\n",
        "line"
      ],
      "metadata": {
        "id": "y0GSqpp5HjDp"
      },
      "id": "y0GSqpp5HjDp",
      "execution_count": null,
      "outputs": []
    },
    {
      "cell_type": "code",
      "source": [
        "line.strip()"
      ],
      "metadata": {
        "id": "Q-UncNBkHpfG"
      },
      "id": "Q-UncNBkHpfG",
      "execution_count": null,
      "outputs": []
    },
    {
      "cell_type": "code",
      "source": [],
      "metadata": {
        "id": "IAxjAt0PHrER"
      },
      "id": "IAxjAt0PHrER",
      "execution_count": null,
      "outputs": []
    },
    {
      "cell_type": "markdown",
      "source": [
        "**Step 3: Wrap everything in a function**\n",
        "\n",
        "Create a function called `read_file(file_path)` that accepts a file path as an argument. This function should read the contents of the specified text file and return a single, continuous string containing all the data from the file."
      ],
      "metadata": {
        "id": "0uYYXHjKHwTp"
      },
      "id": "0uYYXHjKHwTp"
    },
    {
      "cell_type": "code",
      "source": [
        "def read_file(file_path):\n",
        "  pass # Replace the pass with your code"
      ],
      "metadata": {
        "id": "BblQ1bPjLYre"
      },
      "id": "BblQ1bPjLYre",
      "execution_count": null,
      "outputs": []
    },
    {
      "cell_type": "markdown",
      "source": [
        "**Step 4: Plot the Histograms and Compare the Data**\n",
        "\n",
        "Plot a histogram for the data from both the regular DNA (`dna.txt`) and the mutated DNA (`mutate_dna.txt`). Analyze the differences between the two datasets."
      ],
      "metadata": {
        "id": "q9hIXFbsIn4H"
      },
      "id": "q9hIXFbsIn4H"
    },
    {
      "cell_type": "code",
      "execution_count": null,
      "id": "e1c0face",
      "metadata": {
        "id": "e1c0face"
      },
      "outputs": [],
      "source": [
        "dna_file = '/path/to/data/' # Replace /path/to/data/ with the actual path where the regular dna data file are located.\n",
        "\n",
        "dna = read_file(dna_file)\n",
        "histogram = build_histogram(dna)\n",
        "plot_histogram(histogram)"
      ]
    },
    {
      "cell_type": "code",
      "execution_count": null,
      "id": "8f89699b",
      "metadata": {
        "id": "8f89699b"
      },
      "outputs": [],
      "source": [
        "\n",
        "dna_file = '/path/to/data/' # Replace /path/to/data/ with the actual path where the mutate dna data file are located.\n",
        "\n",
        "dna = read_file(dna_file)\n",
        "histogram = build_histogram(dna)\n",
        "plot_histogram(histogram)"
      ]
    },
    {
      "cell_type": "code",
      "source": [],
      "metadata": {
        "id": "TAXLkxfASNOP"
      },
      "id": "TAXLkxfASNOP",
      "execution_count": null,
      "outputs": []
    }
  ],
  "metadata": {
    "kernelspec": {
      "display_name": "Python 3 (ipykernel)",
      "language": "python",
      "name": "python3"
    },
    "language_info": {
      "codemirror_mode": {
        "name": "ipython",
        "version": 3
      },
      "file_extension": ".py",
      "mimetype": "text/x-python",
      "name": "python",
      "nbconvert_exporter": "python",
      "pygments_lexer": "ipython3",
      "version": "3.9.7"
    },
    "colab": {
      "provenance": [],
      "include_colab_link": true
    }
  },
  "nbformat": 4,
  "nbformat_minor": 5
}